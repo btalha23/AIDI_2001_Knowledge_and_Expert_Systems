{
 "cells": [
  {
   "cell_type": "code",
   "execution_count": 1,
   "metadata": {},
   "outputs": [
    {
     "name": "stdout",
     "output_type": "stream",
     "text": [
      "Note: you may need to restart the kernel to use updated packages.\n"
     ]
    }
   ],
   "source": [
    "%pip install --quiet transformers"
   ]
  },
  {
   "cell_type": "code",
   "execution_count": 6,
   "metadata": {},
   "outputs": [],
   "source": [
    "#The main package that contains functions to use Hugging Face\n",
    "import transformers\n",
    "\n",
    "#Set to avoid warning messages.\n",
    "transformers.logging.set_verbosity_error()"
   ]
  },
  {
   "cell_type": "markdown",
   "metadata": {},
   "source": [
    "## Reviewing the Pipeline\n",
    "\n",
    "Use the pipeline registry to look at available pipeline tasks and also explore a specific pipeline"
   ]
  },
  {
   "cell_type": "code",
   "execution_count": 7,
   "metadata": {},
   "outputs": [
    {
     "name": "stdout",
     "output_type": "stream",
     "text": [
      "['audio-classification', 'automatic-speech-recognition', 'conversational', 'depth-estimation', 'document-question-answering', 'feature-extraction', 'fill-mask', 'image-classification', 'image-feature-extraction', 'image-segmentation', 'image-to-image', 'image-to-text', 'mask-generation', 'ner', 'object-detection', 'question-answering', 'sentiment-analysis', 'summarization', 'table-question-answering', 'text-classification', 'text-generation', 'text-to-audio', 'text-to-speech', 'text2text-generation', 'token-classification', 'translation', 'video-classification', 'visual-question-answering', 'vqa', 'zero-shot-audio-classification', 'zero-shot-classification', 'zero-shot-image-classification', 'zero-shot-object-detection']\n"
     ]
    }
   ],
   "source": [
    "from transformers.pipelines import PIPELINE_REGISTRY\n",
    "\n",
    "#Get the list of tasks that are supported by Huggingface pipeline\n",
    "print(PIPELINE_REGISTRY.get_supported_tasks())"
   ]
  },
  {
   "cell_type": "code",
   "execution_count": 8,
   "metadata": {},
   "outputs": [
    {
     "name": "stdout",
     "output_type": "stream",
     "text": [
      "\n",
      "Default Model for Summarization: \n",
      "{'model': {'pt': ('sshleifer/distilbart-cnn-12-6', 'a4f8f3e'), 'tf': ('google-t5/t5-small', 'd769bba')}}\n"
     ]
    }
   ],
   "source": [
    "#Get information about a specific task\n",
    "print(\"\\nDefault Model for Summarization: \")\n",
    "print(PIPELINE_REGISTRY.check_task('summarization')[1].get('default'))"
   ]
  },
  {
   "cell_type": "markdown",
   "metadata": {},
   "source": [
    "## Loading a Pipeline"
   ]
  },
  {
   "cell_type": "code",
   "execution_count": 9,
   "metadata": {},
   "outputs": [
    {
     "name": "stdout",
     "output_type": "stream",
     "text": [
      "WARNING:tensorflow:From c:\\Users\\batoo\\anaconda3\\Lib\\site-packages\\tf_keras\\src\\losses.py:2976: The name tf.losses.sparse_softmax_cross_entropy is deprecated. Please use tf.compat.v1.losses.sparse_softmax_cross_entropy instead.\n",
      "\n",
      "Huggingface Cache directory is :  C:\\Users\\batoo/.cache/huggingface/hub\n"
     ]
    },
    {
     "data": {
      "text/plain": [
       "['.locks',\n",
       " 'models--bert-base-uncased',\n",
       " 'models--facebook--bart-large-cnn',\n",
       " 'models--microsoft--DialoGPT-medium',\n",
       " 'models--microsoft--speecht5_tts',\n",
       " 'models--sshleifer--distilbart-cnn-12-6',\n",
       " 'version.txt']"
      ]
     },
     "execution_count": 9,
     "metadata": {},
     "output_type": "execute_result"
    }
   ],
   "source": [
    "from transformers import pipeline\n",
    "import os\n",
    "\n",
    "#Load a pipeline. This will download the model checkpoint from huggingface and cache it\n",
    "#locally on disk. If model is already available in cache, it will simply use the cached version\n",
    "#Download will usually take a long time, depending on network bandwidth\n",
    "\n",
    "text_summarization_classifier = pipeline(\"summarization\")\n",
    "\n",
    "#Cache usually available at : <<user-home>>.cache\\huggingface\\hub\n",
    "\n",
    "cache_dir = os.path.expanduser('~') + \"/.cache/huggingface/hub\"\n",
    "print(\"Huggingface Cache directory is : \", cache_dir)\n",
    "\n",
    "#Contents of cache directory\n",
    "os.listdir(cache_dir)"
   ]
  },
  {
   "cell_type": "markdown",
   "metadata": {},
   "source": [
    "## Predicting Summarization with Default Model"
   ]
  },
  {
   "cell_type": "code",
   "execution_count": 10,
   "metadata": {},
   "outputs": [
    {
     "name": "stdout",
     "output_type": "stream",
     "text": [
      "[{'summary_text': \" This is a great course for people who want to take part in the Olympics . This is the first of its kind in the history of the Olympics and Paralympics . It's a great way to learn how to use the language of diplomacy and diplomacy to help people around the world .\"}]\n"
     ]
    }
   ],
   "source": [
    "#Predict summarizarion using the pipeline\n",
    "summarization_results=text_summarization_classifier(\"This is a great course\")\n",
    "print(summarization_results)"
   ]
  },
  {
   "cell_type": "markdown",
   "metadata": {},
   "source": [
    "## Using a Custom Model for Summarization"
   ]
  },
  {
   "cell_type": "code",
   "execution_count": 11,
   "metadata": {},
   "outputs": [
    {
     "name": "stdout",
     "output_type": "stream",
     "text": [
      "[{'summary_text': \"This is a great course. It's a great way to learn about the world around you. It will help you understand the world in a whole new way. It'll also help you learn how to be a better person. It can be a really fun way to start your career.\"}]\n"
     ]
    },
    {
     "data": {
      "text/plain": [
       "['.locks',\n",
       " 'models--bert-base-uncased',\n",
       " 'models--facebook--bart-large-cnn',\n",
       " 'models--microsoft--DialoGPT-medium',\n",
       " 'models--microsoft--speecht5_tts',\n",
       " 'models--sshleifer--distilbart-cnn-12-6',\n",
       " 'version.txt']"
      ]
     },
     "execution_count": 11,
     "metadata": {},
     "output_type": "execute_result"
    }
   ],
   "source": [
    "text_summarization_classifier = pipeline(task=\"summarization\",\n",
    "                                model=\"facebook/bart-large-cnn\")\n",
    "\n",
    "summarization_results=text_summarization_classifier(\"This is a great course\")\n",
    "\n",
    "print(summarization_results)\n",
    "\n",
    "#Contents of cache directory\n",
    "os.listdir(cache_dir)"
   ]
  },
  {
   "cell_type": "code",
   "execution_count": 15,
   "metadata": {},
   "outputs": [
    {
     "name": "stdout",
     "output_type": "stream",
     "text": [
      "Collecting gradio==4.27.0\n",
      "  Downloading gradio-4.27.0-py3-none-any.whl.metadata (15 kB)\n",
      "Requirement already satisfied: aiofiles<24.0,>=22.0 in c:\\users\\batoo\\anaconda3\\lib\\site-packages (from gradio==4.27.0) (23.2.1)\n",
      "Requirement already satisfied: altair<6.0,>=4.2.0 in c:\\users\\batoo\\anaconda3\\lib\\site-packages (from gradio==4.27.0) (5.0.1)\n",
      "Requirement already satisfied: fastapi in c:\\users\\batoo\\anaconda3\\lib\\site-packages (from gradio==4.27.0) (0.111.0)\n",
      "Requirement already satisfied: ffmpy in c:\\users\\batoo\\anaconda3\\lib\\site-packages (from gradio==4.27.0) (0.3.2)\n",
      "Collecting gradio-client==0.15.1 (from gradio==4.27.0)\n",
      "  Downloading gradio_client-0.15.1-py3-none-any.whl.metadata (7.1 kB)\n",
      "Requirement already satisfied: httpx>=0.24.1 in c:\\users\\batoo\\anaconda3\\lib\\site-packages (from gradio==4.27.0) (0.27.0)\n",
      "Requirement already satisfied: huggingface-hub>=0.19.3 in c:\\users\\batoo\\anaconda3\\lib\\site-packages (from gradio==4.27.0) (0.21.4)\n",
      "Requirement already satisfied: importlib-resources<7.0,>=1.3 in c:\\users\\batoo\\anaconda3\\lib\\site-packages (from gradio==4.27.0) (6.4.0)\n",
      "Requirement already satisfied: jinja2<4.0 in c:\\users\\batoo\\anaconda3\\lib\\site-packages (from gradio==4.27.0) (3.1.3)\n",
      "Requirement already satisfied: markupsafe~=2.0 in c:\\users\\batoo\\anaconda3\\lib\\site-packages (from gradio==4.27.0) (2.1.3)\n",
      "Requirement already satisfied: matplotlib~=3.0 in c:\\users\\batoo\\anaconda3\\lib\\site-packages (from gradio==4.27.0) (3.8.0)\n",
      "Requirement already satisfied: numpy~=1.0 in c:\\users\\batoo\\anaconda3\\lib\\site-packages (from gradio==4.27.0) (1.26.4)\n",
      "Requirement already satisfied: orjson~=3.0 in c:\\users\\batoo\\anaconda3\\lib\\site-packages (from gradio==4.27.0) (3.10.3)\n",
      "Requirement already satisfied: packaging in c:\\users\\batoo\\anaconda3\\lib\\site-packages (from gradio==4.27.0) (23.1)\n",
      "Requirement already satisfied: pandas<3.0,>=1.0 in c:\\users\\batoo\\anaconda3\\lib\\site-packages (from gradio==4.27.0) (2.1.4)\n",
      "Requirement already satisfied: pillow<11.0,>=8.0 in c:\\users\\batoo\\anaconda3\\lib\\site-packages (from gradio==4.27.0) (10.2.0)\n",
      "Requirement already satisfied: pydantic>=2.0 in c:\\users\\batoo\\anaconda3\\lib\\site-packages (from gradio==4.27.0) (2.7.1)\n",
      "Requirement already satisfied: pydub in c:\\users\\batoo\\anaconda3\\lib\\site-packages (from gradio==4.27.0) (0.25.1)\n",
      "Requirement already satisfied: python-multipart>=0.0.9 in c:\\users\\batoo\\anaconda3\\lib\\site-packages (from gradio==4.27.0) (0.0.9)\n",
      "Requirement already satisfied: pyyaml<7.0,>=5.0 in c:\\users\\batoo\\anaconda3\\lib\\site-packages (from gradio==4.27.0) (6.0.1)\n",
      "Requirement already satisfied: ruff>=0.2.2 in c:\\users\\batoo\\anaconda3\\lib\\site-packages (from gradio==4.27.0) (0.4.5)\n",
      "Requirement already satisfied: semantic-version~=2.0 in c:\\users\\batoo\\anaconda3\\lib\\site-packages (from gradio==4.27.0) (2.10.0)\n",
      "Requirement already satisfied: tomlkit==0.12.0 in c:\\users\\batoo\\anaconda3\\lib\\site-packages (from gradio==4.27.0) (0.12.0)\n",
      "Requirement already satisfied: typer<1.0,>=0.12 in c:\\users\\batoo\\anaconda3\\lib\\site-packages (from gradio==4.27.0) (0.12.3)\n",
      "Requirement already satisfied: typing-extensions~=4.0 in c:\\users\\batoo\\anaconda3\\lib\\site-packages (from gradio==4.27.0) (4.9.0)\n",
      "Requirement already satisfied: urllib3~=2.0 in c:\\users\\batoo\\anaconda3\\lib\\site-packages (from gradio==4.27.0) (2.0.7)\n",
      "Requirement already satisfied: uvicorn>=0.14.0 in c:\\users\\batoo\\anaconda3\\lib\\site-packages (from gradio==4.27.0) (0.29.0)\n",
      "Requirement already satisfied: fsspec in c:\\users\\batoo\\anaconda3\\lib\\site-packages (from gradio-client==0.15.1->gradio==4.27.0) (2023.10.0)\n",
      "Requirement already satisfied: websockets<12.0,>=10.0 in c:\\users\\batoo\\anaconda3\\lib\\site-packages (from gradio-client==0.15.1->gradio==4.27.0) (11.0.3)\n",
      "Requirement already satisfied: jsonschema>=3.0 in c:\\users\\batoo\\anaconda3\\lib\\site-packages (from altair<6.0,>=4.2.0->gradio==4.27.0) (4.19.2)\n",
      "Requirement already satisfied: toolz in c:\\users\\batoo\\anaconda3\\lib\\site-packages (from altair<6.0,>=4.2.0->gradio==4.27.0) (0.12.0)\n",
      "Requirement already satisfied: anyio in c:\\users\\batoo\\anaconda3\\lib\\site-packages (from httpx>=0.24.1->gradio==4.27.0) (4.2.0)\n",
      "Requirement already satisfied: certifi in c:\\users\\batoo\\anaconda3\\lib\\site-packages (from httpx>=0.24.1->gradio==4.27.0) (2024.2.2)\n",
      "Requirement already satisfied: httpcore==1.* in c:\\users\\batoo\\anaconda3\\lib\\site-packages (from httpx>=0.24.1->gradio==4.27.0) (1.0.4)\n",
      "Requirement already satisfied: idna in c:\\users\\batoo\\anaconda3\\lib\\site-packages (from httpx>=0.24.1->gradio==4.27.0) (3.4)\n",
      "Requirement already satisfied: sniffio in c:\\users\\batoo\\anaconda3\\lib\\site-packages (from httpx>=0.24.1->gradio==4.27.0) (1.3.0)\n",
      "Requirement already satisfied: h11<0.15,>=0.13 in c:\\users\\batoo\\anaconda3\\lib\\site-packages (from httpcore==1.*->httpx>=0.24.1->gradio==4.27.0) (0.14.0)\n",
      "Requirement already satisfied: filelock in c:\\users\\batoo\\anaconda3\\lib\\site-packages (from huggingface-hub>=0.19.3->gradio==4.27.0) (3.13.1)\n",
      "Requirement already satisfied: requests in c:\\users\\batoo\\anaconda3\\lib\\site-packages (from huggingface-hub>=0.19.3->gradio==4.27.0) (2.31.0)\n",
      "Requirement already satisfied: tqdm>=4.42.1 in c:\\users\\batoo\\anaconda3\\lib\\site-packages (from huggingface-hub>=0.19.3->gradio==4.27.0) (4.65.0)\n",
      "Requirement already satisfied: contourpy>=1.0.1 in c:\\users\\batoo\\anaconda3\\lib\\site-packages (from matplotlib~=3.0->gradio==4.27.0) (1.2.0)\n",
      "Requirement already satisfied: cycler>=0.10 in c:\\users\\batoo\\anaconda3\\lib\\site-packages (from matplotlib~=3.0->gradio==4.27.0) (0.11.0)\n",
      "Requirement already satisfied: fonttools>=4.22.0 in c:\\users\\batoo\\anaconda3\\lib\\site-packages (from matplotlib~=3.0->gradio==4.27.0) (4.25.0)\n",
      "Requirement already satisfied: kiwisolver>=1.0.1 in c:\\users\\batoo\\anaconda3\\lib\\site-packages (from matplotlib~=3.0->gradio==4.27.0) (1.4.4)\n",
      "Requirement already satisfied: pyparsing>=2.3.1 in c:\\users\\batoo\\anaconda3\\lib\\site-packages (from matplotlib~=3.0->gradio==4.27.0) (3.0.9)\n",
      "Requirement already satisfied: python-dateutil>=2.7 in c:\\users\\batoo\\anaconda3\\lib\\site-packages (from matplotlib~=3.0->gradio==4.27.0) (2.8.2)\n",
      "Requirement already satisfied: pytz>=2020.1 in c:\\users\\batoo\\anaconda3\\lib\\site-packages (from pandas<3.0,>=1.0->gradio==4.27.0) (2023.3.post1)\n",
      "Requirement already satisfied: tzdata>=2022.1 in c:\\users\\batoo\\anaconda3\\lib\\site-packages (from pandas<3.0,>=1.0->gradio==4.27.0) (2023.3)\n",
      "Requirement already satisfied: annotated-types>=0.4.0 in c:\\users\\batoo\\anaconda3\\lib\\site-packages (from pydantic>=2.0->gradio==4.27.0) (0.7.0)\n",
      "Requirement already satisfied: pydantic-core==2.18.2 in c:\\users\\batoo\\anaconda3\\lib\\site-packages (from pydantic>=2.0->gradio==4.27.0) (2.18.2)\n",
      "Requirement already satisfied: click>=8.0.0 in c:\\users\\batoo\\anaconda3\\lib\\site-packages (from typer<1.0,>=0.12->gradio==4.27.0) (8.1.7)\n",
      "Requirement already satisfied: shellingham>=1.3.0 in c:\\users\\batoo\\anaconda3\\lib\\site-packages (from typer<1.0,>=0.12->gradio==4.27.0) (1.5.4)\n",
      "Requirement already satisfied: rich>=10.11.0 in c:\\users\\batoo\\anaconda3\\lib\\site-packages (from typer<1.0,>=0.12->gradio==4.27.0) (13.3.5)\n",
      "Requirement already satisfied: starlette<0.38.0,>=0.37.2 in c:\\users\\batoo\\anaconda3\\lib\\site-packages (from fastapi->gradio==4.27.0) (0.37.2)\n",
      "Requirement already satisfied: fastapi-cli>=0.0.2 in c:\\users\\batoo\\anaconda3\\lib\\site-packages (from fastapi->gradio==4.27.0) (0.0.4)\n",
      "Requirement already satisfied: ujson!=4.0.2,!=4.1.0,!=4.2.0,!=4.3.0,!=5.0.0,!=5.1.0,>=4.0.1 in c:\\users\\batoo\\anaconda3\\lib\\site-packages (from fastapi->gradio==4.27.0) (5.4.0)\n",
      "Requirement already satisfied: email_validator>=2.0.0 in c:\\users\\batoo\\anaconda3\\lib\\site-packages (from fastapi->gradio==4.27.0) (2.1.1)\n",
      "Requirement already satisfied: colorama in c:\\users\\batoo\\anaconda3\\lib\\site-packages (from click>=8.0.0->typer<1.0,>=0.12->gradio==4.27.0) (0.4.6)\n",
      "Requirement already satisfied: dnspython>=2.0.0 in c:\\users\\batoo\\anaconda3\\lib\\site-packages (from email_validator>=2.0.0->fastapi->gradio==4.27.0) (2.6.1)\n",
      "Requirement already satisfied: attrs>=22.2.0 in c:\\users\\batoo\\anaconda3\\lib\\site-packages (from jsonschema>=3.0->altair<6.0,>=4.2.0->gradio==4.27.0) (23.1.0)\n",
      "Requirement already satisfied: jsonschema-specifications>=2023.03.6 in c:\\users\\batoo\\anaconda3\\lib\\site-packages (from jsonschema>=3.0->altair<6.0,>=4.2.0->gradio==4.27.0) (2023.7.1)\n",
      "Requirement already satisfied: referencing>=0.28.4 in c:\\users\\batoo\\anaconda3\\lib\\site-packages (from jsonschema>=3.0->altair<6.0,>=4.2.0->gradio==4.27.0) (0.30.2)\n",
      "Requirement already satisfied: rpds-py>=0.7.1 in c:\\users\\batoo\\anaconda3\\lib\\site-packages (from jsonschema>=3.0->altair<6.0,>=4.2.0->gradio==4.27.0) (0.10.6)\n",
      "Requirement already satisfied: six>=1.5 in c:\\users\\batoo\\anaconda3\\lib\\site-packages (from python-dateutil>=2.7->matplotlib~=3.0->gradio==4.27.0) (1.16.0)\n",
      "Requirement already satisfied: markdown-it-py<3.0.0,>=2.2.0 in c:\\users\\batoo\\anaconda3\\lib\\site-packages (from rich>=10.11.0->typer<1.0,>=0.12->gradio==4.27.0) (2.2.0)\n",
      "Requirement already satisfied: pygments<3.0.0,>=2.13.0 in c:\\users\\batoo\\anaconda3\\lib\\site-packages (from rich>=10.11.0->typer<1.0,>=0.12->gradio==4.27.0) (2.15.1)\n",
      "Requirement already satisfied: httptools>=0.5.0 in c:\\users\\batoo\\anaconda3\\lib\\site-packages (from uvicorn[standard]>=0.12.0->fastapi->gradio==4.27.0) (0.6.1)\n",
      "Requirement already satisfied: python-dotenv>=0.13 in c:\\users\\batoo\\anaconda3\\lib\\site-packages (from uvicorn[standard]>=0.12.0->fastapi->gradio==4.27.0) (0.21.0)\n",
      "Requirement already satisfied: watchfiles>=0.13 in c:\\users\\batoo\\anaconda3\\lib\\site-packages (from uvicorn[standard]>=0.12.0->fastapi->gradio==4.27.0) (0.21.0)\n",
      "Requirement already satisfied: charset-normalizer<4,>=2 in c:\\users\\batoo\\anaconda3\\lib\\site-packages (from requests->huggingface-hub>=0.19.3->gradio==4.27.0) (2.0.4)\n",
      "Requirement already satisfied: mdurl~=0.1 in c:\\users\\batoo\\anaconda3\\lib\\site-packages (from markdown-it-py<3.0.0,>=2.2.0->rich>=10.11.0->typer<1.0,>=0.12->gradio==4.27.0) (0.1.0)\n",
      "Downloading gradio-4.27.0-py3-none-any.whl (17.1 MB)\n",
      "   ---------------------------------------- 0.0/17.1 MB ? eta -:--:--\n",
      "   ---------------------------------------- 0.1/17.1 MB 1.6 MB/s eta 0:00:11\n",
      "   - -------------------------------------- 0.7/17.1 MB 8.9 MB/s eta 0:00:02\n",
      "   ---- ----------------------------------- 1.9/17.1 MB 15.4 MB/s eta 0:00:01\n",
      "   -------- ------------------------------- 3.6/17.1 MB 20.9 MB/s eta 0:00:01\n",
      "   ----------- ---------------------------- 5.1/17.1 MB 23.4 MB/s eta 0:00:01\n",
      "   --------------- ------------------------ 6.8/17.1 MB 25.4 MB/s eta 0:00:01\n",
      "   -------------------- ------------------- 8.6/17.1 MB 27.6 MB/s eta 0:00:01\n",
      "   ----------------------- ---------------- 9.9/17.1 MB 27.5 MB/s eta 0:00:01\n",
      "   -------------------------- ------------- 11.4/17.1 MB 32.7 MB/s eta 0:00:01\n",
      "   ------------------------------ --------- 13.2/17.1 MB 34.4 MB/s eta 0:00:01\n",
      "   ---------------------------------- ----- 14.8/17.1 MB 34.6 MB/s eta 0:00:01\n",
      "   ------------------------------------- -- 16.1/17.1 MB 32.8 MB/s eta 0:00:01\n",
      "   ---------------------------------------  17.1/17.1 MB 32.7 MB/s eta 0:00:01\n",
      "   ---------------------------------------- 17.1/17.1 MB 29.7 MB/s eta 0:00:00\n",
      "Downloading gradio_client-0.15.1-py3-none-any.whl (313 kB)\n",
      "   ---------------------------------------- 0.0/313.6 kB ? eta -:--:--\n",
      "   ---------------------------------------- 313.6/313.6 kB ? eta 0:00:00\n",
      "Installing collected packages: gradio-client, gradio\n",
      "  Attempting uninstall: gradio-client\n",
      "    Found existing installation: gradio_client 0.16.4\n",
      "    Uninstalling gradio_client-0.16.4:\n",
      "      Successfully uninstalled gradio_client-0.16.4\n",
      "  Attempting uninstall: gradio\n",
      "    Found existing installation: gradio 4.31.5\n",
      "    Uninstalling gradio-4.31.5:\n",
      "      Successfully uninstalled gradio-4.31.5\n",
      "Successfully installed gradio-4.27.0 gradio-client-0.15.1\n",
      "Note: you may need to restart the kernel to use updated packages.\n"
     ]
    }
   ],
   "source": [
    "%pip install gradio==4.27.0"
   ]
  },
  {
   "cell_type": "code",
   "execution_count": null,
   "metadata": {},
   "outputs": [],
   "source": [
    "%pip install -U spacy"
   ]
  },
  {
   "cell_type": "code",
   "execution_count": 15,
   "metadata": {},
   "outputs": [
    {
     "name": "stdout",
     "output_type": "stream",
     "text": [
      "Running on local URL:  http://127.0.0.1:7863\n",
      "IMPORTANT: You are using gradio version 4.27.0, however version 4.29.0 is available, please upgrade.\n",
      "--------\n",
      "\n",
      "To create a public link, set `share=True` in `launch()`.\n"
     ]
    },
    {
     "data": {
      "text/html": [
       "<div><iframe src=\"http://127.0.0.1:7863/\" width=\"100%\" height=\"500\" allow=\"autoplay; camera; microphone; clipboard-read; clipboard-write;\" frameborder=\"0\" allowfullscreen></iframe></div>"
      ],
      "text/plain": [
       "<IPython.core.display.HTML object>"
      ]
     },
     "metadata": {},
     "output_type": "display_data"
    },
    {
     "data": {
      "text/plain": []
     },
     "execution_count": 15,
     "metadata": {},
     "output_type": "execute_result"
    }
   ],
   "source": [
    "import gradio as gr\n",
    "\n",
    "def text_summarization(text='This is a great course'):\n",
    "    summarization_results=text_summarization_classifier(text)\n",
    "    # print(summarization_results[0]['summary_text'])\n",
    "    return summarization_results[0][\"summary_text\"]\n",
    "\n",
    "# text_summarization()\n",
    "demo = gr.Interface(fn=text_summarization, inputs=\"text\", outputs=\"text\")\n",
    "demo.launch()"
   ]
  }
 ],
 "metadata": {
  "kernelspec": {
   "display_name": "Python 3",
   "language": "python",
   "name": "python3"
  },
  "language_info": {
   "codemirror_mode": {
    "name": "ipython",
    "version": 3
   },
   "file_extension": ".py",
   "mimetype": "text/x-python",
   "name": "python",
   "nbconvert_exporter": "python",
   "pygments_lexer": "ipython3",
   "version": "3.11.7"
  }
 },
 "nbformat": 4,
 "nbformat_minor": 2
}
